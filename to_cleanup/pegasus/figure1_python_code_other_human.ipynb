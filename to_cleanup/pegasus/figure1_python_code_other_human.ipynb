{
 "cells": [
  {
   "cell_type": "code",
   "execution_count": 1,
   "metadata": {},
   "outputs": [],
   "source": [
    "import pandas as pd\n",
    "import pegasus as pg\n",
    "\n",
    "import paths\n",
    "from filters import initial_qc\n",
    "from local_config import local\n",
    "from mc import save_to_csv\n",
    "from projects_info import N_TISSUES_PROJ\n",
    "from readers import auto_reader\n",
    "from utils import safe_mkdir\n",
    "\n",
    "PATH = \"/ahg/regevdata/projects/scqc/\""
   ]
  },
  {
   "cell_type": "code",
   "execution_count": 2,
   "metadata": {},
   "outputs": [],
   "source": [
    "def save_to_csv(adata):\n",
    "    df = adata.obs\n",
    "    with open(paths.results_dir + \"!cells.csv\", \"w\") as fout:\n",
    "        fout.write(df.to_csv())  # write df to csv"
   ]
  },
  {
   "cell_type": "code",
   "execution_count": 3,
   "metadata": {},
   "outputs": [],
   "source": [
    "project = \"mc_other_human\""
   ]
  },
  {
   "cell_type": "code",
   "execution_count": 4,
   "metadata": {},
   "outputs": [],
   "source": [
    "safe_mkdir(PATH + \"figure1_data\")\n",
    "safe_mkdir(PATH + \"figure1_data/\" + project)"
   ]
  },
  {
   "cell_type": "code",
   "execution_count": null,
   "metadata": {},
   "outputs": [],
   "source": [
    "for task_id in range (N_TISSUES_PROJ[\"mc_other_10X\"]):\n",
    "    if tissue == \"ASD_snRNAseq\":\n",
    "        continue\n",
    "    tissue, is_human, adata = auto_reader(\"other_10X\", task_id, 1)\n",
    "    adata = initial_qc(adata, 100, 3, is_human)\n",
    "    \n",
    "    paths.set_results_dir(PATH + \"figure1_data/\" + project + \"/\" + tissue + \"/\")\n",
    "    safe_mkdir(paths.results_dir)\n",
    "    save_to_csv(adata)"
   ]
  },
  {
   "cell_type": "code",
   "execution_count": null,
   "metadata": {},
   "outputs": [],
   "source": [
    "for task_id in range (N_TISSUES_PROJ[\"mc_other\"]):\n",
    "    tissue, is_human, adata = auto_reader(\"other\", task_id, 1)\n",
    "    adata = initial_qc(adata, 100, 3, is_human)\n",
    "    \n",
    "    paths.set_results_dir(PATH + \"figure1_data/\" + project + \"/\" + tissue + \"/\")\n",
    "    safe_mkdir(paths.results_dir)\n",
    "    save_to_csv(adata)"
   ]
  },
  {
   "cell_type": "code",
   "execution_count": 6,
   "metadata": {},
   "outputs": [
    {
     "name": "stdout",
     "output_type": "stream",
     "text": [
      "2021-02-03 01:10:57,020 - pegasusio.readwrite - INFO - 10x file '/broad/hptmp/bltmp/MantonBL1_HiSeq_1/raw_gene_bc_matrices_h5.h5' is loaded.\n",
      "2021-02-03 01:10:57,027 - pegasusio.readwrite - INFO - Function 'read_input' finished in 4.06s.\n",
      "2021-02-03 01:11:01,090 - pegasusio.readwrite - INFO - 10x file '/broad/hptmp/bltmp/MantonBL1_HiSeq_2/raw_gene_bc_matrices_h5.h5' is loaded.\n",
      "2021-02-03 01:11:01,097 - pegasusio.readwrite - INFO - Function 'read_input' finished in 4.06s.\n",
      "2021-02-03 01:11:06,330 - pegasusio.readwrite - INFO - 10x file '/broad/hptmp/bltmp/MantonBL1_HiSeq_3/raw_gene_bc_matrices_h5.h5' is loaded.\n",
      "2021-02-03 01:11:06,337 - pegasusio.readwrite - INFO - Function 'read_input' finished in 4.03s.\n",
      "2021-02-03 01:11:11,527 - pegasusio.readwrite - INFO - 10x file '/broad/hptmp/bltmp/MantonBL1_HiSeq_4/raw_gene_bc_matrices_h5.h5' is loaded.\n",
      "2021-02-03 01:11:11,534 - pegasusio.readwrite - INFO - Function 'read_input' finished in 3.99s.\n",
      "2021-02-03 01:11:16,716 - pegasusio.readwrite - INFO - 10x file '/broad/hptmp/bltmp/MantonBL1_HiSeq_5/raw_gene_bc_matrices_h5.h5' is loaded.\n",
      "2021-02-03 01:11:16,723 - pegasusio.readwrite - INFO - Function 'read_input' finished in 4.00s.\n",
      "2021-02-03 01:11:21,856 - pegasusio.readwrite - INFO - 10x file '/broad/hptmp/bltmp/MantonBL1_HiSeq_6/raw_gene_bc_matrices_h5.h5' is loaded.\n",
      "2021-02-03 01:11:21,863 - pegasusio.readwrite - INFO - Function 'read_input' finished in 3.94s.\n",
      "2021-02-03 01:11:27,213 - pegasusio.readwrite - INFO - 10x file '/broad/hptmp/bltmp/MantonBL1_HiSeq_7/raw_gene_bc_matrices_h5.h5' is loaded.\n",
      "2021-02-03 01:11:27,220 - pegasusio.readwrite - INFO - Function 'read_input' finished in 4.16s.\n",
      "2021-02-03 01:11:32,397 - pegasusio.readwrite - INFO - 10x file '/broad/hptmp/bltmp/MantonBL1_HiSeq_8/raw_gene_bc_matrices_h5.h5' is loaded.\n",
      "2021-02-03 01:11:32,403 - pegasusio.readwrite - INFO - Function 'read_input' finished in 3.98s.\n",
      "2021-02-03 01:11:37,574 - pegasusio.readwrite - INFO - 10x file '/broad/hptmp/bltmp/MantonBL2_HiSeq_1/raw_gene_bc_matrices_h5.h5' is loaded.\n",
      "2021-02-03 01:11:37,581 - pegasusio.readwrite - INFO - Function 'read_input' finished in 3.98s.\n",
      "2021-02-03 01:11:43,019 - pegasusio.readwrite - INFO - 10x file '/broad/hptmp/bltmp/MantonBL2_HiSeq_2/raw_gene_bc_matrices_h5.h5' is loaded.\n",
      "2021-02-03 01:11:43,026 - pegasusio.readwrite - INFO - Function 'read_input' finished in 4.25s.\n",
      "2021-02-03 01:11:48,197 - pegasusio.readwrite - INFO - 10x file '/broad/hptmp/bltmp/MantonBL2_HiSeq_3/raw_gene_bc_matrices_h5.h5' is loaded.\n",
      "2021-02-03 01:11:48,204 - pegasusio.readwrite - INFO - Function 'read_input' finished in 3.98s.\n",
      "2021-02-03 01:11:53,453 - pegasusio.readwrite - INFO - 10x file '/broad/hptmp/bltmp/MantonBL2_HiSeq_4/raw_gene_bc_matrices_h5.h5' is loaded.\n",
      "2021-02-03 01:11:53,460 - pegasusio.readwrite - INFO - Function 'read_input' finished in 4.06s.\n",
      "2021-02-03 01:11:58,598 - pegasusio.readwrite - INFO - 10x file '/broad/hptmp/bltmp/MantonBL2_HiSeq_5/raw_gene_bc_matrices_h5.h5' is loaded.\n",
      "2021-02-03 01:11:58,605 - pegasusio.readwrite - INFO - Function 'read_input' finished in 3.95s.\n",
      "2021-02-03 01:12:03,712 - pegasusio.readwrite - INFO - 10x file '/broad/hptmp/bltmp/MantonBL2_HiSeq_6/raw_gene_bc_matrices_h5.h5' is loaded.\n",
      "2021-02-03 01:12:03,719 - pegasusio.readwrite - INFO - Function 'read_input' finished in 3.91s.\n",
      "2021-02-03 01:12:08,848 - pegasusio.readwrite - INFO - 10x file '/broad/hptmp/bltmp/MantonBL2_HiSeq_7/raw_gene_bc_matrices_h5.h5' is loaded.\n",
      "2021-02-03 01:12:08,855 - pegasusio.readwrite - INFO - Function 'read_input' finished in 3.93s.\n",
      "2021-02-03 01:12:13,978 - pegasusio.readwrite - INFO - 10x file '/broad/hptmp/bltmp/MantonBL2_HiSeq_8/raw_gene_bc_matrices_h5.h5' is loaded.\n",
      "2021-02-03 01:12:13,985 - pegasusio.readwrite - INFO - Function 'read_input' finished in 3.93s.\n",
      "2021-02-03 01:12:19,127 - pegasusio.readwrite - INFO - 10x file '/broad/hptmp/bltmp/MantonBL3_HiSeq_1/raw_gene_bc_matrices_h5.h5' is loaded.\n",
      "2021-02-03 01:12:19,134 - pegasusio.readwrite - INFO - Function 'read_input' finished in 3.95s.\n",
      "2021-02-03 01:12:24,391 - pegasusio.readwrite - INFO - 10x file '/broad/hptmp/bltmp/MantonBL3_HiSeq_2/raw_gene_bc_matrices_h5.h5' is loaded.\n",
      "2021-02-03 01:12:24,398 - pegasusio.readwrite - INFO - Function 'read_input' finished in 4.07s.\n",
      "2021-02-03 01:12:29,517 - pegasusio.readwrite - INFO - 10x file '/broad/hptmp/bltmp/MantonBL3_HiSeq_3/raw_gene_bc_matrices_h5.h5' is loaded.\n",
      "2021-02-03 01:12:29,524 - pegasusio.readwrite - INFO - Function 'read_input' finished in 3.93s.\n",
      "2021-02-03 01:12:34,606 - pegasusio.readwrite - INFO - 10x file '/broad/hptmp/bltmp/MantonBL3_HiSeq_4/raw_gene_bc_matrices_h5.h5' is loaded.\n",
      "2021-02-03 01:12:34,613 - pegasusio.readwrite - INFO - Function 'read_input' finished in 3.89s.\n",
      "2021-02-03 01:12:39,861 - pegasusio.readwrite - INFO - 10x file '/broad/hptmp/bltmp/MantonBL3_HiSeq_5/raw_gene_bc_matrices_h5.h5' is loaded.\n",
      "2021-02-03 01:12:39,867 - pegasusio.readwrite - INFO - Function 'read_input' finished in 4.06s.\n",
      "2021-02-03 01:12:45,252 - pegasusio.readwrite - INFO - 10x file '/broad/hptmp/bltmp/MantonBL3_HiSeq_6/raw_gene_bc_matrices_h5.h5' is loaded.\n",
      "2021-02-03 01:12:45,258 - pegasusio.readwrite - INFO - Function 'read_input' finished in 4.19s.\n",
      "2021-02-03 01:12:50,623 - pegasusio.readwrite - INFO - 10x file '/broad/hptmp/bltmp/MantonBL3_HiSeq_7/raw_gene_bc_matrices_h5.h5' is loaded.\n",
      "2021-02-03 01:12:50,630 - pegasusio.readwrite - INFO - Function 'read_input' finished in 4.18s.\n",
      "2021-02-03 01:12:56,709 - pegasusio.readwrite - INFO - 10x file '/broad/hptmp/bltmp/MantonBL3_HiSeq_8/raw_gene_bc_matrices_h5.h5' is loaded.\n",
      "2021-02-03 01:12:56,716 - pegasusio.readwrite - INFO - Function 'read_input' finished in 4.90s.\n",
      "2021-02-03 01:13:01,840 - pegasusio.readwrite - INFO - 10x file '/broad/hptmp/bltmp/MantonBL4_HiSeq_1/raw_gene_bc_matrices_h5.h5' is loaded.\n",
      "2021-02-03 01:13:01,847 - pegasusio.readwrite - INFO - Function 'read_input' finished in 3.94s.\n",
      "2021-02-03 01:13:07,005 - pegasusio.readwrite - INFO - 10x file '/broad/hptmp/bltmp/MantonBL4_HiSeq_2/raw_gene_bc_matrices_h5.h5' is loaded.\n",
      "2021-02-03 01:13:07,011 - pegasusio.readwrite - INFO - Function 'read_input' finished in 3.97s.\n",
      "2021-02-03 01:13:12,320 - pegasusio.readwrite - INFO - 10x file '/broad/hptmp/bltmp/MantonBL4_HiSeq_3/raw_gene_bc_matrices_h5.h5' is loaded.\n",
      "2021-02-03 01:13:12,327 - pegasusio.readwrite - INFO - Function 'read_input' finished in 4.12s.\n",
      "2021-02-03 01:13:17,539 - pegasusio.readwrite - INFO - 10x file '/broad/hptmp/bltmp/MantonBL4_HiSeq_4/raw_gene_bc_matrices_h5.h5' is loaded.\n",
      "2021-02-03 01:13:17,546 - pegasusio.readwrite - INFO - Function 'read_input' finished in 4.02s.\n",
      "2021-02-03 01:13:22,949 - pegasusio.readwrite - INFO - 10x file '/broad/hptmp/bltmp/MantonBL4_HiSeq_5/raw_gene_bc_matrices_h5.h5' is loaded.\n",
      "2021-02-03 01:13:22,956 - pegasusio.readwrite - INFO - Function 'read_input' finished in 4.21s.\n",
      "2021-02-03 01:13:28,343 - pegasusio.readwrite - INFO - 10x file '/broad/hptmp/bltmp/MantonBL4_HiSeq_6/raw_gene_bc_matrices_h5.h5' is loaded.\n",
      "2021-02-03 01:13:28,349 - pegasusio.readwrite - INFO - Function 'read_input' finished in 4.21s.\n",
      "2021-02-03 01:13:33,450 - pegasusio.readwrite - INFO - 10x file '/broad/hptmp/bltmp/MantonBL4_HiSeq_7/raw_gene_bc_matrices_h5.h5' is loaded.\n",
      "2021-02-03 01:13:33,456 - pegasusio.readwrite - INFO - Function 'read_input' finished in 3.91s.\n",
      "2021-02-03 01:13:39,018 - pegasusio.readwrite - INFO - 10x file '/broad/hptmp/bltmp/MantonBL4_HiSeq_8/raw_gene_bc_matrices_h5.h5' is loaded.\n",
      "2021-02-03 01:13:39,025 - pegasusio.readwrite - INFO - Function 'read_input' finished in 4.37s.\n",
      "2021-02-03 01:13:48,620 - pegasusio.aggr_data - INFO - Function 'aggregate' finished in 7.22s.\n",
      "2021-02-03 01:15:00,184 - pegasusio.data_aggregation - INFO - Aggregated 32 files.\n",
      "2021-02-03 01:15:00,239 - pegasusio.data_aggregation - INFO - Function 'aggregate_matrices' finished in 247.29s.\n",
      "2021-02-03 01:16:48,906 - pegasusio.qc_utils - INFO - After filtration, 205944 out of 23592960 cell barcodes are kept in UnimodalData object GRCh38-rna.\n",
      "2021-02-03 01:16:48,913 - pegasus.tools.preprocessing - INFO - Function 'filter_data' finished in 2.46s.\n",
      "2021-02-03 01:16:51,962 - pegasus.tools.preprocessing - INFO - After filtration, 25169/33694 genes are kept. Among 25169 genes, 15527 genes are robust.\n"
     ]
    },
    {
     "name": "stdout",
     "output_type": "stream",
     "text": [
      "2021-02-03 01:16:51,969 - pegasus.tools.preprocessing - INFO - Function 'identify_robust_genes' finished in 3.05s.\n"
     ]
    }
   ],
   "source": [
    "for prj in [\"mc_brain\", \"mc_blood\", \"mc_brain_olfactory\", \"mc_heart_circulation\", \"mc_krasnow_lung\"][1:2]:\n",
    "    tissue, is_human, adata = auto_reader(prj, 0, 1)\n",
    "    adata = initial_qc(adata, 100, 3, is_human)\n",
    "\n",
    "    paths.set_results_dir(PATH + \"figure1_data/\" + project + \"/\" + tissue + \"/\")\n",
    "    safe_mkdir(paths.results_dir)\n",
    "    save_to_csv(adata)"
   ]
  },
  {
   "cell_type": "code",
   "execution_count": null,
   "metadata": {},
   "outputs": [],
   "source": [
    "adata = pg.read_input(PATH + \"data/human/other/bone_marrow/MantonBM_nonmix_subset.zarr.zip\")\n",
    "adata = initial_qc(adata, 100, 3, True)\n",
    "paths.set_results_dir(PATH + \"figure1_data/\" + project + \"/bone_marrow/\")\n",
    "safe_mkdir(paths.results_dir)\n",
    "save_to_csv(adata)"
   ]
  },
  {
   "cell_type": "code",
   "execution_count": null,
   "metadata": {},
   "outputs": [],
   "source": []
  }
 ],
 "metadata": {
  "kernelspec": {
   "display_name": "Python 3",
   "language": "python",
   "name": "python3"
  },
  "language_info": {
   "codemirror_mode": {
    "name": "ipython",
    "version": 3
   },
   "file_extension": ".py",
   "mimetype": "text/x-python",
   "name": "python",
   "nbconvert_exporter": "python",
   "pygments_lexer": "ipython3",
   "version": "3.8.3"
  }
 },
 "nbformat": 4,
 "nbformat_minor": 4
}
