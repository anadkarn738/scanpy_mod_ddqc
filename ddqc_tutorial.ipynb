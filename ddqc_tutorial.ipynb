{
 "cells": [
  {
   "cell_type": "markdown",
   "metadata": {},
   "source": [
    "## ddqc Tutotial"
   ]
  },
  {
   "cell_type": "code",
   "execution_count": 1,
   "metadata": {},
   "outputs": [],
   "source": [
    "import pegasus as pg"
   ]
  },
  {
   "cell_type": "markdown",
   "metadata": {},
   "source": [
    "### Reading the data\n",
    "For this tutotial we are going to be using count matrix dataset on Human Bone Marrow provided by pegasus.\n",
    "You can download it at https://storage.googleapis.com/terra-featured-workspaces/Cumulus/MantonBM_nonmix_subset.zarr.zip. <br>\n",
    "\n",
    "We will load the data using the standart `read_input` pegasus function."
   ]
  },
  {
   "cell_type": "code",
   "execution_count": 2,
   "metadata": {},
   "outputs": [
    {
     "name": "stdout",
     "output_type": "stream",
     "text": [
      "2021-03-26 20:41:47,825 - pegasusio.readwrite - INFO - zarr file '/Users/michaelalperovich/Downloads/MantonBM_nonmix_subset.zarr.zip' is loaded.\n",
      "2021-03-26 20:41:47,826 - pegasusio.readwrite - INFO - Function 'read_input' finished in 0.39s.\n"
     ]
    },
    {
     "data": {
      "text/plain": [
       "MultimodalData object with 1 UnimodalData: 'GRCh38-rna'\n",
       "    It currently binds to UnimodalData object GRCh38-rna\n",
       "\n",
       "UnimodalData object with n_obs x n_vars = 48219 x 36601\n",
       "    Genome: GRCh38; Modality: rna\n",
       "    It contains 1 matrix: 'X'\n",
       "    It currently binds to matrix 'X' as X\n",
       "\n",
       "    obs: 'n_genes', 'Channel'\n",
       "    var: 'featureid'\n",
       "    obsm: \n",
       "    varm: \n",
       "    uns: 'genome', 'modality'"
      ]
     },
     "execution_count": 2,
     "metadata": {},
     "output_type": "execute_result"
    }
   ],
   "source": [
    "data = pg.read_input(\"/Users/michaelalperovich/Downloads/MantonBM_nonmix_subset.zarr.zip\")\n",
    "data"
   ]
  },
  {
   "cell_type": "markdown",
   "metadata": {},
   "source": [
    "### Filtering step\n",
    "ddqc does adaptive quality control by clustering cells and picking a separate threshold for each cluster. It is described down below:\n",
    "- Initial Qualtity Control (QC) is performed, when obvious low-quality cells are removed. By default those are cells with n_genes < 100 and percent_mito > 80.\n",
    "- The cells are clustered with the clustering resolution 1.3 (default)\n",
    "- Then thesholds are picked for each cluster. By default the following metrics are considered:\n",
    "    - **Number of counts/UMIs**: keep cells that have n_counts greater than median - 2 Median Absolute Deviations (MAD)\n",
    "    - **Number of genes**: keep cells that have n_genes greater than median - 2 MADs\n",
    "    - **Percent of mitochondrial transctipts**: keep cells that have percent_mito less than median + 2 MADs\n",
    "- In order to prevent the removal of healthy cells in clusters with high median n_genes and low percent_mito there are additional bounds for those thresholds:\n",
    "    - Cluster-level threshold for n_genes can't be greater than 200 (default). If it is greater, it will be set to 200.\n",
    "    - Cluster-level threshold for percent_mito can't be lower than 10 (default). If it is lower, it will be set to 200."
   ]
  },
  {
   "cell_type": "markdown",
   "metadata": {},
   "source": [
    "To perform ddqc on a dataset, first, we need to generate QC metrics. We can do it using the `ddqc_metrics` method with the default settings. `return_df_qc=True` is used to get a dataframe with the information about on what metric and what threshold the cell was removed for each removed cell."
   ]
  },
  {
   "cell_type": "code",
   "execution_count": 3,
   "metadata": {},
   "outputs": [
    {
     "name": "stderr",
     "output_type": "stream",
     "text": [
      "/Users/michaelalperovich/Documents/primes_storage/pegasus_code/pegasus/ddqc/ddqc.py:17: FutureWarning: Possible nested set at position 8\n",
      "  ribo_genes = data.var_names.map(lambda x: re.match(ribo_prefix, x, flags=re.IGNORECASE) is not None).values.nonzero()[0] # get all genes that match the pattern\n",
      "/Users/michaelalperovich/Documents/primes_storage/pegasus_code/pegasus/ddqc/ddqc.py:17: FutureWarning: Possible nested set at position 25\n",
      "  ribo_genes = data.var_names.map(lambda x: re.match(ribo_prefix, x, flags=re.IGNORECASE) is not None).values.nonzero()[0] # get all genes that match the pattern\n"
     ]
    },
    {
     "name": "stdout",
     "output_type": "stream",
     "text": [
      "2021-03-26 20:41:51,059 - pegasusio.qc_utils - INFO - After filtration, 48210 out of 48219 cell barcodes are kept in UnimodalData object GRCh38-rna.\n",
      "2021-03-26 20:41:51,059 - pegasus.tools.preprocessing - INFO - Function 'filter_data' finished in 0.33s.\n",
      "2021-03-26 20:41:51,812 - pegasus.tools.preprocessing - INFO - After filtration, 25910/36601 genes are kept. Among 25910 genes, 16967 genes are robust.\n",
      "2021-03-26 20:41:51,813 - pegasus.tools.preprocessing - INFO - Function 'identify_robust_genes' finished in 0.75s.\n",
      "2021-03-26 20:41:52,595 - pegasus.tools.preprocessing - INFO - Function 'log_norm' finished in 0.77s.\n",
      "2021-03-26 20:41:52,718 - pegasus.tools.hvf_selection - INFO - Function 'estimate_feature_statistics' finished in 0.12s.\n",
      "2021-03-26 20:41:52,761 - pegasus.tools.hvf_selection - INFO - 2000 highly variable features have been selected.\n",
      "2021-03-26 20:41:52,762 - pegasus.tools.hvf_selection - INFO - Function 'highly_variable_features' finished in 0.17s.\n",
      "2021-03-26 20:42:05,628 - pegasus.tools.preprocessing - INFO - Function 'pca' finished in 12.87s.\n",
      "2021-03-26 20:42:21,795 - pegasus.tools.nearest_neighbors - INFO - Function 'get_neighbors' finished in 16.16s.\n",
      "2021-03-26 20:42:22,626 - pegasus.tools.nearest_neighbors - INFO - Function 'calculate_affinity_matrix' finished in 0.83s.\n",
      "2021-03-26 20:42:23,087 - pegasus.tools.graph_operations - INFO - Function 'construct_graph' finished in 0.44s.\n",
      "2021-03-26 20:42:31,186 - pegasus.tools.clustering - INFO - Louvain clustering is done. Get 24 clusters.\n",
      "2021-03-26 20:42:31,236 - pegasus.tools.clustering - INFO - Function 'louvain' finished in 8.61s.\n"
     ]
    }
   ],
   "source": [
    "df_qc = pg.ddqc_metrics(data, return_df_qc=True)\n",
    "data"
   ]
  },
  {
   "cell_type": "markdown",
   "metadata": {},
   "source": [
    "If you want to customize the filtering you can use the following parameters:\n",
    "- `res`: float - clustering resolution (default: 1.3)\n",
    "- `method`: string - statistic on which the threshold would be calculated (default: \"mad\", available options \"mad\", \"outlier\")\n",
    "- `threshold`: float - parameter for the selected method (default: 2)\n",
    "- `basic_n_genes`: int - parameter for the initial QC n_genes filtering (default: 100)\n",
    "- `basic_percent_mito`: float - parameter for the initial QC percent_mito filtering (default: 80)\n",
    "- `mito_prefix`: string - gene prefix used to calculate percent_mito in a cell (default: \"MT-\")\n",
    "- `ribo_prefix`: string - gene regular expression used to calculate percent_ribo in a cell (default: \"^RP[SL][[:digit:]]|^RPLP[[:digit:]]|^RPSA\")\n",
    "- `do_counts`: bool - whether to consider n_counts for ddqc (default: True)\n",
    "- `do_genes`: bool - whether to consider n_genes for ddqc (default: True)\n",
    "- `do_mito`: bool - whether to consider percent_mito for ddqc (default: True)\n",
    "- `do_ribo`: bool - whether to consider percent_ribo for ddqc (default: False)\n",
    "- `n_genes_lower_bound`: int - bound for lower n_genes cluster-level threshold (default: 200)\n",
    "- `basic_percent_mito`: float - bound for upper percent_mito cluster-level threshold (default: 10)\n",
    "- `random_state`: int - random seed for clustering results reproducibility (default: 29)\n",
    "- `return_df_qc`: bool - whether to return a dataframe with the information about on what metric and what threshold the cell was removed for each removed cell. (default: False)"
   ]
  },
  {
   "cell_type": "markdown",
   "metadata": {},
   "source": [
    "If you requested to return df_qc the function will return a pandas dataframe containing the following info for each cell:\n",
    "- `cluster_labels`: cluster from initial clustering performed by ddqc\n",
    "- `metric_lower_co` and `metric_upper_co`: lower and upper cuttofs for each metric on which ddqc was performed. If ddqc was not performed for upper or lower end of this metric this field will be `None`\n",
    "This information is useful if you want to understand based on which metric the cell was filtered out."
   ]
  },
  {
   "cell_type": "code",
   "execution_count": 6,
   "metadata": {},
   "outputs": [
    {
     "data": {
      "text/html": [
       "<div>\n",
       "<style scoped>\n",
       "    .dataframe tbody tr th:only-of-type {\n",
       "        vertical-align: middle;\n",
       "    }\n",
       "\n",
       "    .dataframe tbody tr th {\n",
       "        vertical-align: top;\n",
       "    }\n",
       "\n",
       "    .dataframe thead th {\n",
       "        text-align: right;\n",
       "    }\n",
       "</style>\n",
       "<table border=\"1\" class=\"dataframe\">\n",
       "  <thead>\n",
       "    <tr style=\"text-align: right;\">\n",
       "      <th></th>\n",
       "      <th>cluster_labels</th>\n",
       "      <th>n_counts_lower_co</th>\n",
       "      <th>n_counts_upper_co</th>\n",
       "      <th>n_genes_lower_co</th>\n",
       "      <th>n_genes_upper_co</th>\n",
       "      <th>percent_mito_lower_co</th>\n",
       "      <th>percent_mito_upper_co</th>\n",
       "    </tr>\n",
       "    <tr>\n",
       "      <th>barcodekey</th>\n",
       "      <th></th>\n",
       "      <th></th>\n",
       "      <th></th>\n",
       "      <th></th>\n",
       "      <th></th>\n",
       "      <th></th>\n",
       "      <th></th>\n",
       "    </tr>\n",
       "  </thead>\n",
       "  <tbody>\n",
       "    <tr>\n",
       "      <th>MantonBM1_HiSeq_1-AAACCTGAGCAGGTCA</th>\n",
       "      <td>6</td>\n",
       "      <td>1359.2792</td>\n",
       "      <td>None</td>\n",
       "      <td>200</td>\n",
       "      <td>None</td>\n",
       "      <td>None</td>\n",
       "      <td>4.729336</td>\n",
       "    </tr>\n",
       "    <tr>\n",
       "      <th>MantonBM1_HiSeq_1-AAACCTGCACACTGCG</th>\n",
       "      <td>3</td>\n",
       "      <td>-464.3688</td>\n",
       "      <td>None</td>\n",
       "      <td>111.2732</td>\n",
       "      <td>None</td>\n",
       "      <td>None</td>\n",
       "      <td>8.954169</td>\n",
       "    </tr>\n",
       "    <tr>\n",
       "      <th>MantonBM1_HiSeq_1-AAACCTGCACCGGAAA</th>\n",
       "      <td>1</td>\n",
       "      <td>731.1666</td>\n",
       "      <td>None</td>\n",
       "      <td>200</td>\n",
       "      <td>None</td>\n",
       "      <td>None</td>\n",
       "      <td>4.225153</td>\n",
       "    </tr>\n",
       "    <tr>\n",
       "      <th>MantonBM1_HiSeq_1-AAACCTGCATAGACTC</th>\n",
       "      <td>4</td>\n",
       "      <td>729.4072</td>\n",
       "      <td>None</td>\n",
       "      <td>200</td>\n",
       "      <td>None</td>\n",
       "      <td>None</td>\n",
       "      <td>6.374291</td>\n",
       "    </tr>\n",
       "    <tr>\n",
       "      <th>MantonBM1_HiSeq_1-AAACCTGCATCGATGT</th>\n",
       "      <td>13</td>\n",
       "      <td>-335.4844</td>\n",
       "      <td>None</td>\n",
       "      <td>77.3428</td>\n",
       "      <td>None</td>\n",
       "      <td>None</td>\n",
       "      <td>5.007331</td>\n",
       "    </tr>\n",
       "    <tr>\n",
       "      <th>...</th>\n",
       "      <td>...</td>\n",
       "      <td>...</td>\n",
       "      <td>...</td>\n",
       "      <td>...</td>\n",
       "      <td>...</td>\n",
       "      <td>...</td>\n",
       "      <td>...</td>\n",
       "    </tr>\n",
       "    <tr>\n",
       "      <th>MantonBM8_HiSeq_1-TTTGTCAGTCCGACGT</th>\n",
       "      <td>1</td>\n",
       "      <td>731.1666</td>\n",
       "      <td>None</td>\n",
       "      <td>200</td>\n",
       "      <td>None</td>\n",
       "      <td>None</td>\n",
       "      <td>4.225153</td>\n",
       "    </tr>\n",
       "    <tr>\n",
       "      <th>MantonBM8_HiSeq_1-TTTGTCAGTCGCGGTT</th>\n",
       "      <td>3</td>\n",
       "      <td>-464.3688</td>\n",
       "      <td>None</td>\n",
       "      <td>111.2732</td>\n",
       "      <td>None</td>\n",
       "      <td>None</td>\n",
       "      <td>8.954169</td>\n",
       "    </tr>\n",
       "    <tr>\n",
       "      <th>MantonBM8_HiSeq_1-TTTGTCAGTGGTGTAG</th>\n",
       "      <td>3</td>\n",
       "      <td>-464.3688</td>\n",
       "      <td>None</td>\n",
       "      <td>111.2732</td>\n",
       "      <td>None</td>\n",
       "      <td>None</td>\n",
       "      <td>8.954169</td>\n",
       "    </tr>\n",
       "    <tr>\n",
       "      <th>MantonBM8_HiSeq_1-TTTGTCAGTTTACTCT</th>\n",
       "      <td>21</td>\n",
       "      <td>-1336.0876</td>\n",
       "      <td>None</td>\n",
       "      <td>-67.1496</td>\n",
       "      <td>None</td>\n",
       "      <td>None</td>\n",
       "      <td>4.206936</td>\n",
       "    </tr>\n",
       "    <tr>\n",
       "      <th>MantonBM8_HiSeq_1-TTTGTCATCACCACCT</th>\n",
       "      <td>7</td>\n",
       "      <td>1.698</td>\n",
       "      <td>None</td>\n",
       "      <td>26.8444</td>\n",
       "      <td>None</td>\n",
       "      <td>None</td>\n",
       "      <td>32.391544</td>\n",
       "    </tr>\n",
       "  </tbody>\n",
       "</table>\n",
       "<p>48210 rows × 7 columns</p>\n",
       "</div>"
      ],
      "text/plain": [
       "                                   cluster_labels n_counts_lower_co  \\\n",
       "barcodekey                                                            \n",
       "MantonBM1_HiSeq_1-AAACCTGAGCAGGTCA              6         1359.2792   \n",
       "MantonBM1_HiSeq_1-AAACCTGCACACTGCG              3         -464.3688   \n",
       "MantonBM1_HiSeq_1-AAACCTGCACCGGAAA              1          731.1666   \n",
       "MantonBM1_HiSeq_1-AAACCTGCATAGACTC              4          729.4072   \n",
       "MantonBM1_HiSeq_1-AAACCTGCATCGATGT             13         -335.4844   \n",
       "...                                           ...               ...   \n",
       "MantonBM8_HiSeq_1-TTTGTCAGTCCGACGT              1          731.1666   \n",
       "MantonBM8_HiSeq_1-TTTGTCAGTCGCGGTT              3         -464.3688   \n",
       "MantonBM8_HiSeq_1-TTTGTCAGTGGTGTAG              3         -464.3688   \n",
       "MantonBM8_HiSeq_1-TTTGTCAGTTTACTCT             21        -1336.0876   \n",
       "MantonBM8_HiSeq_1-TTTGTCATCACCACCT              7             1.698   \n",
       "\n",
       "                                   n_counts_upper_co n_genes_lower_co  \\\n",
       "barcodekey                                                              \n",
       "MantonBM1_HiSeq_1-AAACCTGAGCAGGTCA              None              200   \n",
       "MantonBM1_HiSeq_1-AAACCTGCACACTGCG              None         111.2732   \n",
       "MantonBM1_HiSeq_1-AAACCTGCACCGGAAA              None              200   \n",
       "MantonBM1_HiSeq_1-AAACCTGCATAGACTC              None              200   \n",
       "MantonBM1_HiSeq_1-AAACCTGCATCGATGT              None          77.3428   \n",
       "...                                              ...              ...   \n",
       "MantonBM8_HiSeq_1-TTTGTCAGTCCGACGT              None              200   \n",
       "MantonBM8_HiSeq_1-TTTGTCAGTCGCGGTT              None         111.2732   \n",
       "MantonBM8_HiSeq_1-TTTGTCAGTGGTGTAG              None         111.2732   \n",
       "MantonBM8_HiSeq_1-TTTGTCAGTTTACTCT              None         -67.1496   \n",
       "MantonBM8_HiSeq_1-TTTGTCATCACCACCT              None          26.8444   \n",
       "\n",
       "                                   n_genes_upper_co percent_mito_lower_co  \\\n",
       "barcodekey                                                                  \n",
       "MantonBM1_HiSeq_1-AAACCTGAGCAGGTCA             None                  None   \n",
       "MantonBM1_HiSeq_1-AAACCTGCACACTGCG             None                  None   \n",
       "MantonBM1_HiSeq_1-AAACCTGCACCGGAAA             None                  None   \n",
       "MantonBM1_HiSeq_1-AAACCTGCATAGACTC             None                  None   \n",
       "MantonBM1_HiSeq_1-AAACCTGCATCGATGT             None                  None   \n",
       "...                                             ...                   ...   \n",
       "MantonBM8_HiSeq_1-TTTGTCAGTCCGACGT             None                  None   \n",
       "MantonBM8_HiSeq_1-TTTGTCAGTCGCGGTT             None                  None   \n",
       "MantonBM8_HiSeq_1-TTTGTCAGTGGTGTAG             None                  None   \n",
       "MantonBM8_HiSeq_1-TTTGTCAGTTTACTCT             None                  None   \n",
       "MantonBM8_HiSeq_1-TTTGTCATCACCACCT             None                  None   \n",
       "\n",
       "                                   percent_mito_upper_co  \n",
       "barcodekey                                                \n",
       "MantonBM1_HiSeq_1-AAACCTGAGCAGGTCA              4.729336  \n",
       "MantonBM1_HiSeq_1-AAACCTGCACACTGCG              8.954169  \n",
       "MantonBM1_HiSeq_1-AAACCTGCACCGGAAA              4.225153  \n",
       "MantonBM1_HiSeq_1-AAACCTGCATAGACTC              6.374291  \n",
       "MantonBM1_HiSeq_1-AAACCTGCATCGATGT              5.007331  \n",
       "...                                                  ...  \n",
       "MantonBM8_HiSeq_1-TTTGTCAGTCCGACGT              4.225153  \n",
       "MantonBM8_HiSeq_1-TTTGTCAGTCGCGGTT              8.954169  \n",
       "MantonBM8_HiSeq_1-TTTGTCAGTGGTGTAG              8.954169  \n",
       "MantonBM8_HiSeq_1-TTTGTCAGTTTACTCT              4.206936  \n",
       "MantonBM8_HiSeq_1-TTTGTCATCACCACCT             32.391544  \n",
       "\n",
       "[48210 rows x 7 columns]"
      ]
     },
     "execution_count": 6,
     "metadata": {},
     "output_type": "execute_result"
    }
   ],
   "source": [
    "df_qc"
   ]
  },
  {
   "cell_type": "markdown",
   "metadata": {},
   "source": [
    "Then you can generate different QC plots as described in pegasus tutorial. When you are done and want to proceed to downstream analysis, run the following command:"
   ]
  },
  {
   "cell_type": "code",
   "execution_count": 7,
   "metadata": {},
   "outputs": [
    {
     "name": "stdout",
     "output_type": "stream",
     "text": [
      "2021-03-26 20:50:56,927 - pegasusio.qc_utils - INFO - After filtration, 43384 out of 48210 cell barcodes are kept in UnimodalData object GRCh38-rna.\n",
      "2021-03-26 20:50:56,928 - pegasus.tools.preprocessing - INFO - Function 'filter_data' finished in 0.57s.\n"
     ]
    }
   ],
   "source": [
    "pg.filter_data(data)"
   ]
  },
  {
   "cell_type": "code",
   "execution_count": null,
   "metadata": {},
   "outputs": [],
   "source": []
  }
 ],
 "metadata": {
  "kernelspec": {
   "display_name": "Python 3",
   "language": "python",
   "name": "python3"
  },
  "language_info": {
   "codemirror_mode": {
    "name": "ipython",
    "version": 3
   },
   "file_extension": ".py",
   "mimetype": "text/x-python",
   "name": "python",
   "nbconvert_exporter": "python",
   "pygments_lexer": "ipython3",
   "version": "3.8.1"
  }
 },
 "nbformat": 4,
 "nbformat_minor": 4
}
