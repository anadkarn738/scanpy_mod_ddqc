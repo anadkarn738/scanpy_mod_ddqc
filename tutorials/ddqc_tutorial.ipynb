{
 "cells": [
  {
   "cell_type": "markdown",
   "metadata": {},
   "source": [
    "## ddqc Tutorial\n",
    "First, lets set up the workspace loading the ddqc and pegasus packages"
   ]
  },
  {
   "cell_type": "code",
   "execution_count": 1,
   "metadata": {},
   "outputs": [],
   "source": [
    "import pegasus as pg\n",
    "import ddqc"
   ]
  },
  {
   "cell_type": "markdown",
   "metadata": {},
   "source": [
    "### Reading the data\n",
    "For this tutorial we will use the Human Bone Marrow dataset provided by pegasus. <br>\n",
    "We will download the dataset using the following command:"
   ]
  },
  {
   "cell_type": "code",
   "execution_count": 2,
   "metadata": {},
   "outputs": [
    {
     "name": "stdout",
     "output_type": "stream",
     "text": [
      "  % Total    % Received % Xferd  Average Speed   Time    Time     Time  Current\n",
      "                                 Dload  Upload   Total   Spent    Left  Speed\n",
      "100 81.2M  100 81.2M    0     0  33.4M      0  0:00:02  0:00:02 --:--:-- 33.7M\n"
     ]
    }
   ],
   "source": [
    "!curl https://storage.googleapis.com/terra-featured-workspaces/Cumulus/MantonBM_nonmix_subset.zarr.zip -o MantonBM_nonmix_subset.zarr.zip"
   ]
  },
  {
   "cell_type": "markdown",
   "metadata": {},
   "source": [
    "We will first load the data using the standard `read_input` pegasus function."
   ]
  },
  {
   "cell_type": "code",
   "execution_count": 3,
   "metadata": {},
   "outputs": [
    {
     "name": "stdout",
     "output_type": "stream",
     "text": [
      "2022-01-16 21:12:05,195 - pegasusio.readwrite - INFO - zarr file 'MantonBM_nonmix_subset.zarr.zip' is loaded.\n",
      "2022-01-16 21:12:05,196 - pegasusio.readwrite - INFO - Function 'read_input' finished in 0.42s.\n"
     ]
    },
    {
     "data": {
      "text/plain": [
       "MultimodalData object with 1 UnimodalData: 'GRCh38-rna'\n",
       "    It currently binds to UnimodalData object GRCh38-rna\n",
       "\n",
       "UnimodalData object with n_obs x n_vars = 48219 x 36601\n",
       "    Genome: GRCh38; Modality: rna\n",
       "    It contains 1 matrix: 'X'\n",
       "    It currently binds to matrix 'X' as X\n",
       "\n",
       "    obs: 'n_genes', 'Channel'\n",
       "    var: 'featureid'\n",
       "    uns: 'genome', 'modality'"
      ]
     },
     "execution_count": 3,
     "metadata": {},
     "output_type": "execute_result"
    }
   ],
   "source": [
    "data = pg.read_input(\"MantonBM_nonmix_subset.zarr.zip\")\n",
    "data"
   ]
  },
  {
   "cell_type": "markdown",
   "metadata": {},
   "source": [
    "### Biology-centered data-driven quality control (ddqc)\n",
    "ddqc does adaptive quality control by clustering cells and picking a separate threshold for each cluster. It is described down below:\n",
    "- Initial Qualtity Control (QC) is performed, when obvious low-quality cells are removed. By default those are cells with n_genes < 100 and percent_mito > 80.\n",
    "- The cells are clustered with the clustering resolution 1.3 (default)\n",
    "- Then thesholds are picked for each cluster. By default the following metrics are considered:\n",
    "    - **Number of counts/UMIs**: keep cells that have n_counts greater than median - 2 Median Absolute Deviations (MAD)\n",
    "    - **Number of genes**: keep cells that have n_genes greater than median - 2 MADs\n",
    "    - **Percent of mitochondrial transctipts**: keep cells that have percent_mito less than median + 2 MADs\n",
    "- In order to prevent the removal of healthy cells in clusters with high median n_genes and low percent_mito there are additional bounds for those thresholds:\n",
    "    - Cluster-level threshold for n_genes can't be greater than 200 (default). If it is greater, it will be set to 200.\n",
    "    - Cluster-level threshold for percent_mito can't be lower than 10 (default). If it is lower, it will be set to 10."
   ]
  },
  {
   "cell_type": "markdown",
   "metadata": {},
   "source": [
    "To perform ddqc on a dataset, we will run the `ddqc_metrics` function. "
   ]
  },
  {
   "cell_type": "markdown",
   "metadata": {},
   "source": [
    "If you want to customize the filtering you can use the following parameters:\n",
    "- `res` (float): clustering resolution (default is 1.3).\n",
    "- `clustering_method` (str): clustering method that will be used by ddqc clustering. Supported options are:\n",
    "    \"louvain\", \"leiden\", \"spectral_louvain\", and \"spectral_leiden\" (default is \"louvain\").\n",
    "- `n_components` (int): number of PCA components (default is 50).\n",
    "- `k` (int): k to be used by `neighbors` Pegasus function (default is 20).\n",
    "- `method` (str): statistic on which the threshold would be calculated. Supported options are \"mad\" and \"outlier\"\n",
    "    (default is \"mad\").\n",
    "- `threshold` (float): parameter for the selected method (default is 2).\n",
    "    Note that \"outlier\" method doesn't requre parameter and will ignore this option.\n",
    "- `threshold_counts` (int, None): setting for applying ddqc based on number of counts. (Default is 0)\n",
    "    - If set to 0, will perform ddqc on number of counts using the `threshold` parameter provided earlier.\n",
    "    - If set to a number other than 0, will  overwrite `threshold` parameter for number of counts.\n",
    "    - If set to None, won't perform ddqc on number of counts.\n",
    "- `threshold_genes` (int, None): Same as above, but for number of genes.\n",
    "- `threshold_mito` (float, None): Same as above, but for percent of mitochondrial transcripts.\n",
    "- `threshold_ribo` (float, None): Same as above, but for percent of ribosomal transcripts.\n",
    "- `basic_n_genes` (int): parameter for the initial QC n_genes filtering (default is 100).\n",
    "- `basic_percent_mito` (float): parameter for the initial QC percent_mito filtering (default is 80.0).\n",
    "- `mito_prefix` (str): gene prefix used to calculate percent_mito in a cell (default is \"MT-\").\n",
    "- `ribo_prefix` (str): gene regular expression used to calculate percent_ribo in a cell\n",
    "    (default is \"^RP[SL][[:digit:]]|^RPLP[[:digit:]]|^RPSA\").\n",
    "- `n_genes_lower_bound` (int): bound for lower n_genes cluster-level threshold (default is 200).\n",
    "- `percent_mito_upper_bound` (float): bound for upper percent_mito cluster-level threshold (default is 10).\n",
    "- `random_state` (int): random seed for clustering results reproducibility (default is 29)\n",
    "- `return_df_qc` (bool): whether to return a dataframe with the information about on what metric and what threshold\n",
    "    the cell was removed for each removed cell. (default is False)\n",
    "- `display_plots` (bool): whether to show plots that would show filtering statistics (default is True)."
   ]
  },
  {
   "cell_type": "markdown",
   "metadata": {},
   "source": [
    "We will now run ddqc on the dataset with default settings."
   ]
  },
  {
   "cell_type": "code",
   "execution_count": 4,
   "metadata": {
    "scrolled": false
   },
   "outputs": [
    {
     "name": "stderr",
     "output_type": "stream",
     "text": [
      "/Users/michaelalperovich/Dropbox/Proga/Primes/primes_storage/ddqc/ddqc/ddqc.py:20: FutureWarning: Possible nested set at position 8\n",
      "  data.var_names.map(lambda x: re.match(ribo_prefix, x, flags=re.IGNORECASE) is not None).values.nonzero()[\n",
      "/Users/michaelalperovich/Dropbox/Proga/Primes/primes_storage/ddqc/ddqc/ddqc.py:20: FutureWarning: Possible nested set at position 25\n",
      "  data.var_names.map(lambda x: re.match(ribo_prefix, x, flags=re.IGNORECASE) is not None).values.nonzero()[\n"
     ]
    },
    {
     "name": "stdout",
     "output_type": "stream",
     "text": [
      "2022-01-16 21:12:06,169 - pegasusio.qc_utils - INFO - After filtration, 48210 out of 48219 cell barcodes are kept in UnimodalData object GRCh38-rna.\n",
      "2022-01-16 21:12:06,170 - pegasus.tools.preprocessing - INFO - Function 'filter_data' finished in 0.30s.\n",
      "2022-01-16 21:12:06,948 - pegasus.tools.preprocessing - INFO - After filtration, 25910/36601 genes are kept. Among 25910 genes, 16967 genes are robust.\n",
      "2022-01-16 21:12:06,949 - pegasus.tools.preprocessing - INFO - Function 'identify_robust_genes' finished in 0.78s.\n",
      "2022-01-16 21:12:07,605 - pegasus.tools.preprocessing - INFO - Function 'log_norm' finished in 0.65s.\n",
      "2022-01-16 21:12:07,739 - pegasus.tools.hvf_selection - INFO - Function 'estimate_feature_statistics' finished in 0.13s.\n",
      "2022-01-16 21:12:07,772 - pegasus.tools.hvf_selection - INFO - 2000 highly variable features have been selected.\n",
      "2022-01-16 21:12:07,772 - pegasus.tools.hvf_selection - INFO - Function 'highly_variable_features' finished in 0.17s.\n",
      "2022-01-16 21:12:19,654 - pegasus.tools.preprocessing - INFO - Function 'pca' finished in 11.88s.\n",
      "2022-01-16 21:12:31,009 - pegasus.tools.nearest_neighbors - INFO - Function 'get_neighbors' finished in 11.35s.\n",
      "2022-01-16 21:12:31,792 - pegasus.tools.nearest_neighbors - INFO - Function 'calculate_affinity_matrix' finished in 0.78s.\n",
      "2022-01-16 21:12:32,173 - pegasus.tools.graph_operations - INFO - Function 'construct_graph' finished in 0.37s.\n",
      "2022-01-16 21:12:41,366 - pegasus.tools.clustering - INFO - Louvain clustering is done. Get 23 clusters.\n",
      "2022-01-16 21:12:41,378 - pegasus.tools.clustering - INFO - Function 'louvain' finished in 9.58s.\n"
     ]
    },
    {
     "data": {
      "image/png": "[encoded data removed]",
      "text/plain": [
       "<Figure size 1080x864 with 1 Axes>"
      ]
     },
     "metadata": {
      "needs_background": "light"
     },
     "output_type": "display_data"
    },
    {
     "data": {
      "image/png": "[encoded data removed]",
      "text/plain": [
       "<Figure size 1080x864 with 1 Axes>"
      ]
     },
     "metadata": {
      "needs_background": "light"
     },
     "output_type": "display_data"
    }
   ],
   "source": [
    "df_qc = ddqc.ddqc_metrics(data, return_df_qc=True)"
   ]
  },
  {
   "cell_type": "markdown",
   "metadata": {},
   "source": [
    "### Disabling Initial QC\n",
    "If want to use a separate QC tool instead of inital QC, such as EmptyDrops, you can disable Initial QC. Use the parameter settins outlined below (you can use these alongside any other customization parameters):\n",
    "\n",
    "`df_qc = ddqc.ddqc_metrics(data, basic_n_genes=0, basic_percent_mito=100)`"
   ]
  },
  {
   "cell_type": "markdown",
   "metadata": {},
   "source": [
    "### Outputs\n",
    "There are two boxplots provided for exploratory data analysis:\n",
    "- log2(n_genes) by cluster: shows log2 of number of genes for each cluster in the initial clustering. Red line at 200 genes (7.64 in log2 scale) represents the most common fixed threshold cutoff for n_genes.\n",
    "- percent_mito by cluster: shows percent_mito for each cluster in the initial clustering. Red line at 10% represents the most common fixed threshold cutoff for percent_mito.\n",
    "\n",
    "\n",
    "Also, if you are using \"mad\" method and didn't use any of metric threshold overwrites (threshold_counts, threshold_genes, threshold_mito, threshold_ribo), ddqc will generate two facet plots that show how number of cells that are filtered out changes depending on the threshold value. These plots will help you to pick a threshold parameter if you want to tune it.\n",
    "\n",
    "Each of those plots is faceted by cluster, and has a threshold parameter (from 1 to 3) on x-axis. First plot will have a number of cells filtered out in cluster on y-axis, second plot will have a percentage of cells filtered out in cluster.\n",
    "\n",
    "The filtering will still be performed based on the threshold you picked."
   ]
  },
  {
   "cell_type": "markdown",
   "metadata": {},
   "source": [
    "If you requested to return df_qc the function will return a pandas dataframe containing the following info for each cell:\n",
    "- `metric`: QC metric number\n",
    "- `cluster_labels`: cluster from initial clustering performed by ddqc\n",
    "- `metric_lower_co` and `metric_upper_co`: lower and upper cuttofs for each metric on which ddqc was performed. If ddqc was not performed for upper or lower end of this metric this field will be `None`\n",
    "- `metric.passed.qc`: whether the cell passed qc for a given metric\n",
    "This information is useful if you want to understand based on which metric the cell was filtered out."
   ]
  },
  {
   "cell_type": "code",
   "execution_count": 5,
   "metadata": {},
   "outputs": [
    {
     "data": {
      "text/html": [
       "<div>\n",
       "<style scoped>\n",
       "    .dataframe tbody tr th:only-of-type {\n",
       "        vertical-align: middle;\n",
       "    }\n",
       "\n",
       "    .dataframe tbody tr th {\n",
       "        vertical-align: top;\n",
       "    }\n",
       "\n",
       "    .dataframe thead th {\n",
       "        text-align: right;\n",
       "    }\n",
       "</style>\n",
       "<table border=\"1\" class=\"dataframe\">\n",
       "  <thead>\n",
       "    <tr style=\"text-align: right;\">\n",
       "      <th></th>\n",
       "      <th>cluster_labels</th>\n",
       "      <th>n_counts_lower_co</th>\n",
       "      <th>n_counts_upper_co</th>\n",
       "      <th>n_counts</th>\n",
       "      <th>n_counts_passed_qc</th>\n",
       "      <th>n_genes_lower_co</th>\n",
       "      <th>n_genes_upper_co</th>\n",
       "      <th>n_genes</th>\n",
       "      <th>n_genes_passed_qc</th>\n",
       "      <th>percent_mito_lower_co</th>\n",
       "      <th>percent_mito_upper_co</th>\n",
       "      <th>percent_mito</th>\n",
       "      <th>percent_mito_passed_qc</th>\n",
       "      <th>passed_qc</th>\n",
       "    </tr>\n",
       "    <tr>\n",
       "      <th>barcodekey</th>\n",
       "      <th></th>\n",
       "      <th></th>\n",
       "      <th></th>\n",
       "      <th></th>\n",
       "      <th></th>\n",
       "      <th></th>\n",
       "      <th></th>\n",
       "      <th></th>\n",
       "      <th></th>\n",
       "      <th></th>\n",
       "      <th></th>\n",
       "      <th></th>\n",
       "      <th></th>\n",
       "      <th></th>\n",
       "    </tr>\n",
       "  </thead>\n",
       "  <tbody>\n",
       "    <tr>\n",
       "      <th>MantonBM1_HiSeq_1-AAACCTGAGCAGGTCA</th>\n",
       "      <td>6</td>\n",
       "      <td>1373.2096</td>\n",
       "      <td>None</td>\n",
       "      <td>3554.0</td>\n",
       "      <td>True</td>\n",
       "      <td>200</td>\n",
       "      <td>None</td>\n",
       "      <td>816.0</td>\n",
       "      <td>True</td>\n",
       "      <td>None</td>\n",
       "      <td>10</td>\n",
       "      <td>3.967361</td>\n",
       "      <td>True</td>\n",
       "      <td>True</td>\n",
       "    </tr>\n",
       "    <tr>\n",
       "      <th>MantonBM1_HiSeq_1-AAACCTGCACACTGCG</th>\n",
       "      <td>1</td>\n",
       "      <td>-744.5694</td>\n",
       "      <td>None</td>\n",
       "      <td>1740.0</td>\n",
       "      <td>True</td>\n",
       "      <td>-40.1352</td>\n",
       "      <td>None</td>\n",
       "      <td>716.0</td>\n",
       "      <td>True</td>\n",
       "      <td>None</td>\n",
       "      <td>10.159141</td>\n",
       "      <td>6.034483</td>\n",
       "      <td>True</td>\n",
       "      <td>True</td>\n",
       "    </tr>\n",
       "    <tr>\n",
       "      <th>MantonBM1_HiSeq_1-AAACCTGCACCGGAAA</th>\n",
       "      <td>2</td>\n",
       "      <td>744.0448</td>\n",
       "      <td>None</td>\n",
       "      <td>2435.0</td>\n",
       "      <td>True</td>\n",
       "      <td>200</td>\n",
       "      <td>None</td>\n",
       "      <td>554.0</td>\n",
       "      <td>True</td>\n",
       "      <td>None</td>\n",
       "      <td>10</td>\n",
       "      <td>2.751540</td>\n",
       "      <td>True</td>\n",
       "      <td>True</td>\n",
       "    </tr>\n",
       "    <tr>\n",
       "      <th>MantonBM1_HiSeq_1-AAACCTGCATAGACTC</th>\n",
       "      <td>4</td>\n",
       "      <td>708.6508</td>\n",
       "      <td>None</td>\n",
       "      <td>2913.0</td>\n",
       "      <td>True</td>\n",
       "      <td>200</td>\n",
       "      <td>None</td>\n",
       "      <td>967.0</td>\n",
       "      <td>True</td>\n",
       "      <td>None</td>\n",
       "      <td>10</td>\n",
       "      <td>3.329900</td>\n",
       "      <td>True</td>\n",
       "      <td>True</td>\n",
       "    </tr>\n",
       "    <tr>\n",
       "      <th>MantonBM1_HiSeq_1-AAACCTGCATCGATGT</th>\n",
       "      <td>13</td>\n",
       "      <td>-176.555</td>\n",
       "      <td>None</td>\n",
       "      <td>5372.0</td>\n",
       "      <td>True</td>\n",
       "      <td>112.8382</td>\n",
       "      <td>None</td>\n",
       "      <td>1704.0</td>\n",
       "      <td>True</td>\n",
       "      <td>None</td>\n",
       "      <td>10</td>\n",
       "      <td>2.122115</td>\n",
       "      <td>True</td>\n",
       "      <td>True</td>\n",
       "    </tr>\n",
       "    <tr>\n",
       "      <th>...</th>\n",
       "      <td>...</td>\n",
       "      <td>...</td>\n",
       "      <td>...</td>\n",
       "      <td>...</td>\n",
       "      <td>...</td>\n",
       "      <td>...</td>\n",
       "      <td>...</td>\n",
       "      <td>...</td>\n",
       "      <td>...</td>\n",
       "      <td>...</td>\n",
       "      <td>...</td>\n",
       "      <td>...</td>\n",
       "      <td>...</td>\n",
       "      <td>...</td>\n",
       "    </tr>\n",
       "    <tr>\n",
       "      <th>MantonBM8_HiSeq_1-TTTGTCAGTCCGACGT</th>\n",
       "      <td>2</td>\n",
       "      <td>744.0448</td>\n",
       "      <td>None</td>\n",
       "      <td>1570.0</td>\n",
       "      <td>True</td>\n",
       "      <td>200</td>\n",
       "      <td>None</td>\n",
       "      <td>454.0</td>\n",
       "      <td>True</td>\n",
       "      <td>None</td>\n",
       "      <td>10</td>\n",
       "      <td>3.566879</td>\n",
       "      <td>True</td>\n",
       "      <td>True</td>\n",
       "    </tr>\n",
       "    <tr>\n",
       "      <th>MantonBM8_HiSeq_1-TTTGTCAGTCGCGGTT</th>\n",
       "      <td>1</td>\n",
       "      <td>-744.5694</td>\n",
       "      <td>None</td>\n",
       "      <td>1367.0</td>\n",
       "      <td>True</td>\n",
       "      <td>-40.1352</td>\n",
       "      <td>None</td>\n",
       "      <td>539.0</td>\n",
       "      <td>True</td>\n",
       "      <td>None</td>\n",
       "      <td>10.159141</td>\n",
       "      <td>7.388442</td>\n",
       "      <td>True</td>\n",
       "      <td>True</td>\n",
       "    </tr>\n",
       "    <tr>\n",
       "      <th>MantonBM8_HiSeq_1-TTTGTCAGTGGTGTAG</th>\n",
       "      <td>1</td>\n",
       "      <td>-744.5694</td>\n",
       "      <td>None</td>\n",
       "      <td>3834.0</td>\n",
       "      <td>True</td>\n",
       "      <td>-40.1352</td>\n",
       "      <td>None</td>\n",
       "      <td>1117.0</td>\n",
       "      <td>True</td>\n",
       "      <td>None</td>\n",
       "      <td>10.159141</td>\n",
       "      <td>2.973396</td>\n",
       "      <td>True</td>\n",
       "      <td>True</td>\n",
       "    </tr>\n",
       "    <tr>\n",
       "      <th>MantonBM8_HiSeq_1-TTTGTCAGTTTACTCT</th>\n",
       "      <td>22</td>\n",
       "      <td>-1346.3916</td>\n",
       "      <td>None</td>\n",
       "      <td>5982.0</td>\n",
       "      <td>True</td>\n",
       "      <td>-80.8364</td>\n",
       "      <td>None</td>\n",
       "      <td>1569.0</td>\n",
       "      <td>True</td>\n",
       "      <td>None</td>\n",
       "      <td>10</td>\n",
       "      <td>1.788699</td>\n",
       "      <td>True</td>\n",
       "      <td>True</td>\n",
       "    </tr>\n",
       "    <tr>\n",
       "      <th>MantonBM8_HiSeq_1-TTTGTCATCACCACCT</th>\n",
       "      <td>7</td>\n",
       "      <td>5.7328</td>\n",
       "      <td>None</td>\n",
       "      <td>472.0</td>\n",
       "      <td>True</td>\n",
       "      <td>23.914</td>\n",
       "      <td>None</td>\n",
       "      <td>181.0</td>\n",
       "      <td>True</td>\n",
       "      <td>None</td>\n",
       "      <td>31.936285</td>\n",
       "      <td>12.500000</td>\n",
       "      <td>True</td>\n",
       "      <td>True</td>\n",
       "    </tr>\n",
       "  </tbody>\n",
       "</table>\n",
       "<p>48210 rows × 14 columns</p>\n",
       "</div>"
      ],
      "text/plain": [
       "                                   cluster_labels n_counts_lower_co  \\\n",
       "barcodekey                                                            \n",
       "MantonBM1_HiSeq_1-AAACCTGAGCAGGTCA              6         1373.2096   \n",
       "MantonBM1_HiSeq_1-AAACCTGCACACTGCG              1         -744.5694   \n",
       "MantonBM1_HiSeq_1-AAACCTGCACCGGAAA              2          744.0448   \n",
       "MantonBM1_HiSeq_1-AAACCTGCATAGACTC              4          708.6508   \n",
       "MantonBM1_HiSeq_1-AAACCTGCATCGATGT             13          -176.555   \n",
       "...                                           ...               ...   \n",
       "MantonBM8_HiSeq_1-TTTGTCAGTCCGACGT              2          744.0448   \n",
       "MantonBM8_HiSeq_1-TTTGTCAGTCGCGGTT              1         -744.5694   \n",
       "MantonBM8_HiSeq_1-TTTGTCAGTGGTGTAG              1         -744.5694   \n",
       "MantonBM8_HiSeq_1-TTTGTCAGTTTACTCT             22        -1346.3916   \n",
       "MantonBM8_HiSeq_1-TTTGTCATCACCACCT              7            5.7328   \n",
       "\n",
       "                                   n_counts_upper_co  n_counts  \\\n",
       "barcodekey                                                       \n",
       "MantonBM1_HiSeq_1-AAACCTGAGCAGGTCA              None    3554.0   \n",
       "MantonBM1_HiSeq_1-AAACCTGCACACTGCG              None    1740.0   \n",
       "MantonBM1_HiSeq_1-AAACCTGCACCGGAAA              None    2435.0   \n",
       "MantonBM1_HiSeq_1-AAACCTGCATAGACTC              None    2913.0   \n",
       "MantonBM1_HiSeq_1-AAACCTGCATCGATGT              None    5372.0   \n",
       "...                                              ...       ...   \n",
       "MantonBM8_HiSeq_1-TTTGTCAGTCCGACGT              None    1570.0   \n",
       "MantonBM8_HiSeq_1-TTTGTCAGTCGCGGTT              None    1367.0   \n",
       "MantonBM8_HiSeq_1-TTTGTCAGTGGTGTAG              None    3834.0   \n",
       "MantonBM8_HiSeq_1-TTTGTCAGTTTACTCT              None    5982.0   \n",
       "MantonBM8_HiSeq_1-TTTGTCATCACCACCT              None     472.0   \n",
       "\n",
       "                                   n_counts_passed_qc n_genes_lower_co  \\\n",
       "barcodekey                                                               \n",
       "MantonBM1_HiSeq_1-AAACCTGAGCAGGTCA               True              200   \n",
       "MantonBM1_HiSeq_1-AAACCTGCACACTGCG               True         -40.1352   \n",
       "MantonBM1_HiSeq_1-AAACCTGCACCGGAAA               True              200   \n",
       "MantonBM1_HiSeq_1-AAACCTGCATAGACTC               True              200   \n",
       "MantonBM1_HiSeq_1-AAACCTGCATCGATGT               True         112.8382   \n",
       "...                                               ...              ...   \n",
       "MantonBM8_HiSeq_1-TTTGTCAGTCCGACGT               True              200   \n",
       "MantonBM8_HiSeq_1-TTTGTCAGTCGCGGTT               True         -40.1352   \n",
       "MantonBM8_HiSeq_1-TTTGTCAGTGGTGTAG               True         -40.1352   \n",
       "MantonBM8_HiSeq_1-TTTGTCAGTTTACTCT               True         -80.8364   \n",
       "MantonBM8_HiSeq_1-TTTGTCATCACCACCT               True           23.914   \n",
       "\n",
       "                                   n_genes_upper_co  n_genes  \\\n",
       "barcodekey                                                     \n",
       "MantonBM1_HiSeq_1-AAACCTGAGCAGGTCA             None    816.0   \n",
       "MantonBM1_HiSeq_1-AAACCTGCACACTGCG             None    716.0   \n",
       "MantonBM1_HiSeq_1-AAACCTGCACCGGAAA             None    554.0   \n",
       "MantonBM1_HiSeq_1-AAACCTGCATAGACTC             None    967.0   \n",
       "MantonBM1_HiSeq_1-AAACCTGCATCGATGT             None   1704.0   \n",
       "...                                             ...      ...   \n",
       "MantonBM8_HiSeq_1-TTTGTCAGTCCGACGT             None    454.0   \n",
       "MantonBM8_HiSeq_1-TTTGTCAGTCGCGGTT             None    539.0   \n",
       "MantonBM8_HiSeq_1-TTTGTCAGTGGTGTAG             None   1117.0   \n",
       "MantonBM8_HiSeq_1-TTTGTCAGTTTACTCT             None   1569.0   \n",
       "MantonBM8_HiSeq_1-TTTGTCATCACCACCT             None    181.0   \n",
       "\n",
       "                                   n_genes_passed_qc percent_mito_lower_co  \\\n",
       "barcodekey                                                                   \n",
       "MantonBM1_HiSeq_1-AAACCTGAGCAGGTCA              True                  None   \n",
       "MantonBM1_HiSeq_1-AAACCTGCACACTGCG              True                  None   \n",
       "MantonBM1_HiSeq_1-AAACCTGCACCGGAAA              True                  None   \n",
       "MantonBM1_HiSeq_1-AAACCTGCATAGACTC              True                  None   \n",
       "MantonBM1_HiSeq_1-AAACCTGCATCGATGT              True                  None   \n",
       "...                                              ...                   ...   \n",
       "MantonBM8_HiSeq_1-TTTGTCAGTCCGACGT              True                  None   \n",
       "MantonBM8_HiSeq_1-TTTGTCAGTCGCGGTT              True                  None   \n",
       "MantonBM8_HiSeq_1-TTTGTCAGTGGTGTAG              True                  None   \n",
       "MantonBM8_HiSeq_1-TTTGTCAGTTTACTCT              True                  None   \n",
       "MantonBM8_HiSeq_1-TTTGTCATCACCACCT              True                  None   \n",
       "\n",
       "                                   percent_mito_upper_co  percent_mito  \\\n",
       "barcodekey                                                               \n",
       "MantonBM1_HiSeq_1-AAACCTGAGCAGGTCA                    10      3.967361   \n",
       "MantonBM1_HiSeq_1-AAACCTGCACACTGCG             10.159141      6.034483   \n",
       "MantonBM1_HiSeq_1-AAACCTGCACCGGAAA                    10      2.751540   \n",
       "MantonBM1_HiSeq_1-AAACCTGCATAGACTC                    10      3.329900   \n",
       "MantonBM1_HiSeq_1-AAACCTGCATCGATGT                    10      2.122115   \n",
       "...                                                  ...           ...   \n",
       "MantonBM8_HiSeq_1-TTTGTCAGTCCGACGT                    10      3.566879   \n",
       "MantonBM8_HiSeq_1-TTTGTCAGTCGCGGTT             10.159141      7.388442   \n",
       "MantonBM8_HiSeq_1-TTTGTCAGTGGTGTAG             10.159141      2.973396   \n",
       "MantonBM8_HiSeq_1-TTTGTCAGTTTACTCT                    10      1.788699   \n",
       "MantonBM8_HiSeq_1-TTTGTCATCACCACCT             31.936285     12.500000   \n",
       "\n",
       "                                   percent_mito_passed_qc  passed_qc  \n",
       "barcodekey                                                            \n",
       "MantonBM1_HiSeq_1-AAACCTGAGCAGGTCA                   True       True  \n",
       "MantonBM1_HiSeq_1-AAACCTGCACACTGCG                   True       True  \n",
       "MantonBM1_HiSeq_1-AAACCTGCACCGGAAA                   True       True  \n",
       "MantonBM1_HiSeq_1-AAACCTGCATAGACTC                   True       True  \n",
       "MantonBM1_HiSeq_1-AAACCTGCATCGATGT                   True       True  \n",
       "...                                                   ...        ...  \n",
       "MantonBM8_HiSeq_1-TTTGTCAGTCCGACGT                   True       True  \n",
       "MantonBM8_HiSeq_1-TTTGTCAGTCGCGGTT                   True       True  \n",
       "MantonBM8_HiSeq_1-TTTGTCAGTGGTGTAG                   True       True  \n",
       "MantonBM8_HiSeq_1-TTTGTCAGTTTACTCT                   True       True  \n",
       "MantonBM8_HiSeq_1-TTTGTCATCACCACCT                   True       True  \n",
       "\n",
       "[48210 rows x 14 columns]"
      ]
     },
     "execution_count": 5,
     "metadata": {},
     "output_type": "execute_result"
    }
   ],
   "source": [
    "df_qc"
   ]
  },
  {
   "cell_type": "markdown",
   "metadata": {},
   "source": [
    "### Filter out the cells\n",
    "Now, we will filter out the cells that failed ddqc. Here, we started with 48219 cells and retain 45939 cells."
   ]
  },
  {
   "cell_type": "code",
   "execution_count": 6,
   "metadata": {},
   "outputs": [
    {
     "name": "stdout",
     "output_type": "stream",
     "text": [
      "2022-01-16 21:12:43,186 - pegasusio.qc_utils - INFO - After filtration, 45712 out of 48210 cell barcodes are kept in UnimodalData object GRCh38-rna.\n",
      "2022-01-16 21:12:43,187 - pegasus.tools.preprocessing - INFO - Function 'filter_data' finished in 0.41s.\n"
     ]
    }
   ],
   "source": [
    "pg.filter_data(data)"
   ]
  },
  {
   "cell_type": "markdown",
   "metadata": {},
   "source": [
    "### Save the dataset\n",
    "We will save the dataset as data.h5ad, which can then be imported into the scRNAseq pipeline of your choice for downstream analysis."
   ]
  },
  {
   "cell_type": "code",
   "execution_count": 7,
   "metadata": {
    "pycharm": {
     "name": "#%%\n"
    }
   },
   "outputs": [
    {
     "name": "stdout",
     "output_type": "stream",
     "text": [
      "2022-01-16 21:12:51,540 - pegasusio.readwrite - INFO - h5ad file 'data.h5ad' is written.\n",
      "2022-01-16 21:12:51,541 - pegasusio.readwrite - INFO - Function 'write_output' finished in 8.35s.\n"
     ]
    }
   ],
   "source": [
    "pg.write_output(data, \"data.h5ad\")"
   ]
  }
 ],
 "metadata": {
  "kernelspec": {
   "display_name": "Python 3 (ipykernel)",
   "language": "python",
   "name": "python3"
  },
  "language_info": {
   "codemirror_mode": {
    "name": "ipython",
    "version": 3
   },
   "file_extension": ".py",
   "mimetype": "text/x-python",
   "name": "python",
   "nbconvert_exporter": "python",
   "pygments_lexer": "ipython3",
   "version": "3.9.12"
  }
 },
 "nbformat": 4,
 "nbformat_minor": 4
}
